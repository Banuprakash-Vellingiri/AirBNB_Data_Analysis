{
 "cells": [
  {
   "cell_type": "markdown",
   "metadata": {},
   "source": [
    "DATA PREPROCESSING CLEANING USING PANDAS "
   ]
  },
  {
   "cell_type": "code",
   "execution_count": null,
   "metadata": {},
   "outputs": [],
   "source": [
    "#Importing neccessary libraries\n",
    "\n",
    "import pandas as pd\n",
    "import ast \n",
    "df=pd.read_csv(\"airbnb.csv\")\n",
    "# df.head()"
   ]
  },
  {
   "cell_type": "code",
   "execution_count": null,
   "metadata": {},
   "outputs": [],
   "source": [
    "#Cleaning_basic_details of room\n",
    "\n",
    "df=df.dropna(subset=[\"name\"])\n",
    "df[\"security_deposit\"]=df[\"security_deposit\"].fillna(0)\n",
    "df[\"beds\"]=df[\"beds\"].fillna(0)\n",
    "df[\"beds\"]=df[\"beds\"].astype(int)\n",
    "df[\"extra_people\"]=df[\"extra_people\"].fillna(0)\n",
    "df[\"extra_people\"]=df[\"extra_people\"].astype(int)\n",
    "df[\"bathrooms\"]=df[\"bathrooms\"].fillna(0)\n",
    "df[\"bathrooms\"]=df[\"bathrooms\"].apply(lambda x:round(x))\n",
    "df[\"cleaning_fee\"]=df[\"cleaning_fee\"].fillna(0)\n",
    "df[\"bedrooms\"]=df[\"bedrooms\"].fillna(0)\n"
   ]
  },
  {
   "cell_type": "code",
   "execution_count": null,
   "metadata": {},
   "outputs": [],
   "source": [
    "#Extracting and cleaning_address_details of room\n",
    "\n",
    "df[\"street\"]=df[\"address\"].apply(lambda x : ast.literal_eval(x)[\"street\"])\n",
    "df[\"sub_urban\"]=df[\"address\"].apply(lambda x : ast.literal_eval(x)[\"suburb\"])\n",
    "df[\"government_area\"]=df[\"address\"].apply(lambda x : ast.literal_eval(x)[\"government_area\"])\n",
    "df[\"country\"]=df[\"address\"].apply(lambda x : ast.literal_eval(x)[\"country\"])\n",
    "df[\"country_code\"]=df[\"address\"].apply(lambda x : ast.literal_eval(x)[\"country_code\"])\n",
    "df[\"latitude\"] = df[\"address\"].apply(lambda x: ast.literal_eval(x)['location']['coordinates'][1])\n",
    "df[\"longitude\"] = df[\"address\"].apply(lambda x: ast.literal_eval(x)['location']['coordinates'][0])\n",
    "\n"
   ]
  },
  {
   "cell_type": "code",
   "execution_count": null,
   "metadata": {},
   "outputs": [],
   "source": [
    "#Host details\n",
    "\n",
    "df[\"host_id\"]=df[\"host\"].apply(lambda x : ast.literal_eval(x)[\"host_id\"])\n",
    "df[\"host_name\"]=df[\"host\"].apply(lambda x : ast.literal_eval(x)[\"host_name\"])\n",
    "df[\"host_location\"]=df[\"host\"].apply(lambda x : ast.literal_eval(x)[\"host_location\"])\n",
    "df[\"host_is_superhost\"]=df[\"host\"].apply(lambda x : ast.literal_eval(x)[\"host_is_superhost\"])\n",
    "df[\"host_is_superhost\"]=df[\"host_is_superhost\"].apply(lambda x:\"yes\"if x==True else \"no\")\n",
    "df[\"host_identity_verified\"]=df[\"host\"].apply(lambda x : ast.literal_eval(x)[\"host_identity_verified\"])\n",
    "df[\"host_identity_verified\"]=df[\"host_identity_verified\"].apply(lambda x:\"yes\"if x==True else \"no\")\n",
    "df[\"host_total_listings_count\"]=df[\"host\"].apply(lambda x : ast.literal_eval(x)[\"host_total_listings_count\"])\n",
    "df[\"host_has_profile_pic\"]=df[\"host\"].apply(lambda x : ast.literal_eval(x)[\"host_has_profile_pic\"])\n",
    "df[\"host_has_profile_pic\"]=df[\"host_has_profile_pic\"].apply(lambda x:\"yes\"if x==True else \"no\")\n",
    "\n"
   ]
  },
  {
   "cell_type": "code",
   "execution_count": null,
   "metadata": {},
   "outputs": [],
   "source": [
    "#Availability details\n",
    "\n",
    "df[\"availability_30\"]=df[\"availability\"].apply(lambda x : ast.literal_eval(x)[\"availability_30\"])\n",
    "df[\"availability_60\"]=df[\"availability\"].apply(lambda x : ast.literal_eval(x)[\"availability_60\"])\n",
    "df[\"availability_90\"]=df[\"availability\"].apply(lambda x : ast.literal_eval(x)[\"availability_90\"])\n",
    "df[\"availability_365\"]=df[\"availability\"].apply(lambda x : ast.literal_eval(x)[\"availability_365\"])"
   ]
  },
  {
   "cell_type": "code",
   "execution_count": null,
   "metadata": {},
   "outputs": [],
   "source": [
    "#Review scores\n",
    "\n",
    "def get_scores(scores,x):\n",
    "   try:\n",
    "       return ast.literal_eval(x)[scores]\n",
    "   except (KeyError, ValueError):\n",
    "       return \"not_available\"\n",
    "\n",
    "\n",
    "df[\"review_scores_accuracy\"]=df[\"review_scores\"].apply(lambda x :get_scores(\"review_scores_accuracy\",x))\n",
    "df[\"review_scores_cleanliness\"]=df[\"review_scores\"].apply(lambda x :get_scores(\"review_scores_cleanliness\",x))\n",
    "df[\"review_scores_checkin\"]=df[\"review_scores\"].apply(lambda x :get_scores(\"review_scores_checkin\",x))\n",
    "df[\"review_scores_communication\"]=df[\"review_scores\"].apply(lambda x :get_scores(\"review_scores_communication\",x))\n",
    "df[\"review_scores_value\"]=df[\"review_scores\"].apply(lambda x :get_scores(\"review_scores_value\",x))\n",
    "df[\"review_scores_location\"]=df[\"review_scores\"].apply(lambda x :get_scores(\"review_scores_location\",x))\n",
    "df[\"review_scores_rating\"]=df[\"review_scores\"].apply(lambda x :get_scores(\"review_scores_rating\",x))\n"
   ]
  },
  {
   "cell_type": "code",
   "execution_count": null,
   "metadata": {},
   "outputs": [],
   "source": [
    "#Creating new dataframe\n",
    "\n",
    "data=df[['name', 'space', 'property_type', 'room_type', 'bed_type',\n",
    "       'minimum_nights', 'maximum_nights', 'cancellation_policy',\n",
    "       'accommodates', 'bedrooms', 'beds', 'number_of_reviews', 'bathrooms',\n",
    "       'price', 'security_deposit', 'cleaning_fee','monthly_price',\n",
    "       'extra_people', 'guests_included','weekly_price',\n",
    "       'host_id', 'host_name', 'host_location', 'host_neighbourhood',\n",
    "       'host_is_superhost', 'host_identity_verified',\n",
    "       'host_total_listings_count', 'host_has_profile_pic', 'availability_30',\n",
    "       'availability_60', 'availability_90', 'availability_365',\n",
    "       'street', 'sub_urban','government_area', 'country_code', 'latitude', 'longitude', 'country',\n",
    "       'availability_30','availability_60', 'availability_90', 'availability_365',\n",
    "       'review_scores_accuracy', 'review_scores_cleanliness',\n",
    "       'review_scores_checkin', 'review_scores_communication',\n",
    "       'review_scores_value', 'review_scores_location', 'review_scores_rating',\n",
    "       ]]\n",
    "# data.head()"
   ]
  },
  {
   "cell_type": "markdown",
   "metadata": {},
   "source": [
    "Converting Dataframe into csv file"
   ]
  },
  {
   "cell_type": "code",
   "execution_count": null,
   "metadata": {},
   "outputs": [],
   "source": [
    "data.to_csv(\"airbnb_cleaned_dataset.csv\",index=False)"
   ]
  }
 ],
 "metadata": {
  "kernelspec": {
   "display_name": "Python 3",
   "language": "python",
   "name": "python3"
  },
  "language_info": {
   "codemirror_mode": {
    "name": "ipython",
    "version": 3
   },
   "file_extension": ".py",
   "mimetype": "text/x-python",
   "name": "python",
   "nbconvert_exporter": "python",
   "pygments_lexer": "ipython3",
   "version": "3.11.4"
  }
 },
 "nbformat": 4,
 "nbformat_minor": 2
}
