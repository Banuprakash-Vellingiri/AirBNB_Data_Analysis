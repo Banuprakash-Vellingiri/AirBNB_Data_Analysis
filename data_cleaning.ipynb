{
 "cells": [
  {
   "cell_type": "code",
   "execution_count": 1,
   "metadata": {},
   "outputs": [],
   "source": [
    "import pandas as pd\n",
    "df=pd.read_csv(\"airbnb.csv\")"
   ]
  },
  {
   "cell_type": "code",
   "execution_count": null,
   "metadata": {},
   "outputs": [],
   "source": [
    "df.columns"
   ]
  },
  {
   "cell_type": "code",
   "execution_count": 3,
   "metadata": {},
   "outputs": [],
   "source": [
    "import ast "
   ]
  },
  {
   "cell_type": "code",
   "execution_count": 9,
   "metadata": {},
   "outputs": [],
   "source": [
    "#Cleaning_basic_details of room\n",
    "df=df.dropna(subset=[\"name\"])\n",
    "df[\"security_deposit\"]=df[\"security_deposit\"].fillna(0)\n",
    "df[\"beds\"]=df[\"beds\"].fillna(0)\n",
    "df[\"beds\"]=df[\"beds\"].astype(int)\n",
    "df[\"extra_people\"]=df[\"extra_people\"].fillna(0)\n",
    "df[\"extra_people\"]=df[\"extra_people\"].astype(int)\n",
    "df[\"bathrooms\"]=df[\"bathrooms\"].fillna(0)\n",
    "df[\"cleaning_fee\"]=df[\"cleaning_fee\"].fillna(0)\n",
    "df[\"bedrooms\"]=df[\"bedrooms\"].fillna(0)\n",
    "\n",
    "#Cxtracting and cleaning_address_details of room\n",
    "df[\"street\"]=df[\"address\"].apply(lambda x : ast.literal_eval(x)[\"street\"])\n",
    "df[\"sub_urban\"]=df[\"address\"].apply(lambda x : ast.literal_eval(x)[\"suburb\"])\n",
    "df[\"government_area\"]=df[\"address\"].apply(lambda x : ast.literal_eval(x)[\"government_area\"])\n",
    "df[\"country_code\"]=df[\"address\"].apply(lambda x : ast.literal_eval(x)[\"country_code\"])\n",
    "df[\"latitude\"] = df[\"address\"].apply(lambda x: ast.literal_eval(x)['location']['coordinates'][1])\n",
    "df[\"longitude\"] = df[\"address\"].apply(lambda x: ast.literal_eval(x)['location']['coordinates'][0])\n",
    "\n"
   ]
  },
  {
   "cell_type": "code",
   "execution_count": null,
   "metadata": {},
   "outputs": [],
   "source": [
    "data_1=df[[\"name\",\"property_type\",\"room_type\",\"bedrooms\",\"beds\",\"bed_type\",\"bathrooms\",\"minimum_nights\",\"maximum_nights\",\"price\",\"security_deposit\",\"cleaning_fee\",\"extra_people\",\"guests_included\",\"street\",\"sub_urban\",\"government_area\",\"country_code\"]]\n",
    "data_1"
   ]
  },
  {
   "cell_type": "code",
   "execution_count": null,
   "metadata": {},
   "outputs": [],
   "source": []
  }
 ],
 "metadata": {
  "kernelspec": {
   "display_name": "Python 3",
   "language": "python",
   "name": "python3"
  },
  "language_info": {
   "codemirror_mode": {
    "name": "ipython",
    "version": 3
   },
   "file_extension": ".py",
   "mimetype": "text/x-python",
   "name": "python",
   "nbconvert_exporter": "python",
   "pygments_lexer": "ipython3",
   "version": "3.11.4"
  }
 },
 "nbformat": 4,
 "nbformat_minor": 2
}
